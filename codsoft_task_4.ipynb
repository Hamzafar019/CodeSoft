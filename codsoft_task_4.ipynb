{
  "cells": [
    {
      "cell_type": "code",
      "execution_count": null,
      "id": "72a544bf",
      "metadata": {
        "id": "72a544bf"
      },
      "outputs": [],
      "source": [
        "import pandas as pd\n",
        "import numpy as np"
      ]
    },
    {
      "cell_type": "code",
      "execution_count": null,
      "id": "b2f33a2c",
      "metadata": {
        "id": "b2f33a2c"
      },
      "outputs": [],
      "source": [
        "movies = pd.read_csv('tmdb_5000_movies.csv')\n",
        "credits = pd.read_csv('tmdb_5000_credits.csv')"
      ]
    },
    {
      "cell_type": "code",
      "execution_count": null,
      "id": "90781220",
      "metadata": {
        "scrolled": true,
        "id": "90781220",
        "outputId": "0376eafe-24cc-4567-e181-56b9bfebaede"
      },
      "outputs": [
        {
          "data": {
            "text/plain": [
              "(4809, 23)"
            ]
          },
          "execution_count": 10,
          "metadata": {},
          "output_type": "execute_result"
        }
      ],
      "source": [
        "movies = movies.merge(credits, on='title', how='inner')\n",
        "movies.shape"
      ]
    },
    {
      "cell_type": "code",
      "execution_count": null,
      "id": "7b64376e",
      "metadata": {
        "scrolled": true,
        "id": "7b64376e"
      },
      "outputs": [],
      "source": [
        "movies = movies[['movie_id', 'title', 'keywords', 'overview', 'genres', 'cast', 'crew']]"
      ]
    },
    {
      "cell_type": "code",
      "execution_count": null,
      "id": "be91dab6",
      "metadata": {
        "scrolled": true,
        "id": "be91dab6",
        "outputId": "c6341d63-12b6-4cfb-fa6a-47229fafe09f"
      },
      "outputs": [
        {
          "data": {
            "text/plain": [
              "'[{\"id\": 28, \"name\": \"Action\"}, {\"id\": 12, \"name\": \"Adventure\"}, {\"id\": 14, \"name\": \"Fantasy\"}, {\"id\": 878, \"name\": \"Science Fiction\"}]'"
            ]
          },
          "execution_count": 13,
          "metadata": {},
          "output_type": "execute_result"
        }
      ],
      "source": [
        "movies['genres'][0]"
      ]
    },
    {
      "cell_type": "code",
      "execution_count": null,
      "id": "4d1567d4",
      "metadata": {
        "id": "4d1567d4"
      },
      "outputs": [],
      "source": [
        "import ast\n",
        "\n",
        "def getgenres(object):\n",
        "    L = []\n",
        "    for i in ast.literal_eval(object):\n",
        "        L.append(i['name'])\n",
        "    return L"
      ]
    },
    {
      "cell_type": "code",
      "execution_count": null,
      "id": "4fd68ccf",
      "metadata": {
        "id": "4fd68ccf"
      },
      "outputs": [],
      "source": [
        "movies['genres'] = movies['genres'].apply(getgenres)"
      ]
    },
    {
      "cell_type": "code",
      "execution_count": null,
      "id": "43b0b750",
      "metadata": {
        "id": "43b0b750",
        "outputId": "484a0883-2bb8-4936-919d-ca62b0a1c524"
      },
      "outputs": [
        {
          "data": {
            "text/plain": [
              "['Action', 'Adventure', 'Fantasy', 'Science Fiction']"
            ]
          },
          "execution_count": 18,
          "metadata": {},
          "output_type": "execute_result"
        }
      ],
      "source": [
        "movies['genres'][0]"
      ]
    },
    {
      "cell_type": "code",
      "execution_count": null,
      "id": "29e58bc0",
      "metadata": {
        "id": "29e58bc0"
      },
      "outputs": [],
      "source": [
        "def getkeywords(object):\n",
        "    L = []\n",
        "    for i in ast.literal_eval(object):\n",
        "        L.append(i['name'])\n",
        "    return L"
      ]
    },
    {
      "cell_type": "code",
      "execution_count": null,
      "id": "e6731577",
      "metadata": {
        "id": "e6731577"
      },
      "outputs": [],
      "source": [
        "movies['keywords'] = movies['keywords'].apply(getkeywords)"
      ]
    },
    {
      "cell_type": "code",
      "execution_count": null,
      "id": "a0bc1c46",
      "metadata": {
        "id": "a0bc1c46",
        "outputId": "1016b6de-186e-4552-b618-4a2afd7b898b"
      },
      "outputs": [
        {
          "data": {
            "text/plain": [
              "['culture clash',\n",
              " 'future',\n",
              " 'space war',\n",
              " 'space colony',\n",
              " 'society',\n",
              " 'space travel',\n",
              " 'futuristic',\n",
              " 'romance',\n",
              " 'space',\n",
              " 'alien',\n",
              " 'tribe',\n",
              " 'alien planet',\n",
              " 'cgi',\n",
              " 'marine',\n",
              " 'soldier',\n",
              " 'battle',\n",
              " 'love affair',\n",
              " 'anti war',\n",
              " 'power relations',\n",
              " 'mind and soul',\n",
              " '3d']"
            ]
          },
          "execution_count": 21,
          "metadata": {},
          "output_type": "execute_result"
        }
      ],
      "source": [
        "movies['keywords'][0]"
      ]
    },
    {
      "cell_type": "code",
      "execution_count": null,
      "id": "40a33d04",
      "metadata": {
        "id": "40a33d04"
      },
      "outputs": [],
      "source": [
        "def getcast(object):\n",
        "    L = []\n",
        "    counter = 0\n",
        "    for i in ast.literal_eval(object):\n",
        "        if counter == 3:\n",
        "            break\n",
        "        L.append(i['name'])\n",
        "        counter += 1\n",
        "    return L"
      ]
    },
    {
      "cell_type": "code",
      "execution_count": null,
      "id": "eabc5434",
      "metadata": {
        "id": "eabc5434"
      },
      "outputs": [],
      "source": [
        "movies['cast'] = movies['cast'].apply(getcast)"
      ]
    },
    {
      "cell_type": "code",
      "execution_count": null,
      "id": "7c03a3b2",
      "metadata": {
        "id": "7c03a3b2",
        "outputId": "14abd1ea-2a5d-4237-d6b1-a0452c6e71d6"
      },
      "outputs": [
        {
          "data": {
            "text/plain": [
              "['Sam Worthington', 'Zoe Saldana', 'Sigourney Weaver']"
            ]
          },
          "execution_count": 24,
          "metadata": {},
          "output_type": "execute_result"
        }
      ],
      "source": [
        "movies['cast'][0]"
      ]
    },
    {
      "cell_type": "code",
      "execution_count": null,
      "id": "8a433f42",
      "metadata": {
        "id": "8a433f42"
      },
      "outputs": [],
      "source": [
        "def getdirector(object):\n",
        "    L = []\n",
        "    for i in ast.literal_eval(object):\n",
        "        if i['job'] == 'Director':\n",
        "            L.append(i['name'])\n",
        "            break\n",
        "    return L"
      ]
    },
    {
      "cell_type": "code",
      "execution_count": null,
      "id": "dc748a2b",
      "metadata": {
        "id": "dc748a2b"
      },
      "outputs": [],
      "source": [
        "movies['crew'] = movies['crew'].apply(getdirector)"
      ]
    },
    {
      "cell_type": "code",
      "execution_count": null,
      "id": "7ef686c0",
      "metadata": {
        "id": "7ef686c0",
        "outputId": "4538c4a9-44db-4a1f-89e1-9e541ea01c37"
      },
      "outputs": [
        {
          "data": {
            "text/plain": [
              "['James Cameron']"
            ]
          },
          "execution_count": 27,
          "metadata": {},
          "output_type": "execute_result"
        }
      ],
      "source": [
        "movies['crew'][0]"
      ]
    },
    {
      "cell_type": "code",
      "execution_count": null,
      "id": "f71bd827",
      "metadata": {
        "id": "f71bd827"
      },
      "outputs": [],
      "source": [
        "movies['overview'] = movies['overview'].apply(lambda x : str(x).split())"
      ]
    },
    {
      "cell_type": "code",
      "execution_count": null,
      "id": "450bf7a9",
      "metadata": {
        "id": "450bf7a9",
        "outputId": "ac816f89-efd2-4c63-baf2-668a820040dc"
      },
      "outputs": [
        {
          "data": {
            "text/plain": [
              "['In',\n",
              " 'the',\n",
              " '22nd',\n",
              " 'century,',\n",
              " 'a',\n",
              " 'paraplegic',\n",
              " 'Marine',\n",
              " 'is',\n",
              " 'dispatched',\n",
              " 'to',\n",
              " 'the',\n",
              " 'moon',\n",
              " 'Pandora',\n",
              " 'on',\n",
              " 'a',\n",
              " 'unique',\n",
              " 'mission,',\n",
              " 'but',\n",
              " 'becomes',\n",
              " 'torn',\n",
              " 'between',\n",
              " 'following',\n",
              " 'orders',\n",
              " 'and',\n",
              " 'protecting',\n",
              " 'an',\n",
              " 'alien',\n",
              " 'civilization.']"
            ]
          },
          "execution_count": 29,
          "metadata": {},
          "output_type": "execute_result"
        }
      ],
      "source": [
        "movies['overview'][0]"
      ]
    },
    {
      "cell_type": "code",
      "execution_count": null,
      "id": "e6923d67",
      "metadata": {
        "id": "e6923d67"
      },
      "outputs": [],
      "source": [
        "movies['genres'] = movies['genres'].apply(lambda x : [i.replace(' ', '') for i in x])\n",
        "movies['keywords'] = movies['keywords'].apply(lambda x: [i.replace(' ', '') for i in x])\n",
        "movies['cast'] = movies['cast'].apply(lambda x : [i.replace(' ', '') for i in x])\n",
        "movies['crew'] = movies['crew'].apply(lambda x : [i.replace(' ', '') for i in x])"
      ]
    },
    {
      "cell_type": "code",
      "execution_count": null,
      "id": "f8161126",
      "metadata": {
        "id": "f8161126",
        "outputId": "2f0ca66d-a95d-48d6-e665-86a343b95352"
      },
      "outputs": [
        {
          "data": {
            "text/html": [
              "<div>\n",
              "<style scoped>\n",
              "    .dataframe tbody tr th:only-of-type {\n",
              "        vertical-align: middle;\n",
              "    }\n",
              "\n",
              "    .dataframe tbody tr th {\n",
              "        vertical-align: top;\n",
              "    }\n",
              "\n",
              "    .dataframe thead th {\n",
              "        text-align: right;\n",
              "    }\n",
              "</style>\n",
              "<table border=\"1\" class=\"dataframe\">\n",
              "  <thead>\n",
              "    <tr style=\"text-align: right;\">\n",
              "      <th></th>\n",
              "      <th>movie_id</th>\n",
              "      <th>title</th>\n",
              "      <th>keywords</th>\n",
              "      <th>overview</th>\n",
              "      <th>genres</th>\n",
              "      <th>cast</th>\n",
              "      <th>crew</th>\n",
              "    </tr>\n",
              "  </thead>\n",
              "  <tbody>\n",
              "    <tr>\n",
              "      <th>0</th>\n",
              "      <td>19995</td>\n",
              "      <td>Avatar</td>\n",
              "      <td>[cultureclash, future, spacewar, spacecolony, ...</td>\n",
              "      <td>[In, the, 22nd, century,, a, paraplegic, Marin...</td>\n",
              "      <td>[Action, Adventure, Fantasy, ScienceFiction]</td>\n",
              "      <td>[SamWorthington, ZoeSaldana, SigourneyWeaver]</td>\n",
              "      <td>[JamesCameron]</td>\n",
              "    </tr>\n",
              "  </tbody>\n",
              "</table>\n",
              "</div>"
            ],
            "text/plain": [
              "   movie_id   title                                           keywords  \\\n",
              "0     19995  Avatar  [cultureclash, future, spacewar, spacecolony, ...   \n",
              "\n",
              "                                            overview  \\\n",
              "0  [In, the, 22nd, century,, a, paraplegic, Marin...   \n",
              "\n",
              "                                         genres  \\\n",
              "0  [Action, Adventure, Fantasy, ScienceFiction]   \n",
              "\n",
              "                                            cast            crew  \n",
              "0  [SamWorthington, ZoeSaldana, SigourneyWeaver]  [JamesCameron]  "
            ]
          },
          "execution_count": 31,
          "metadata": {},
          "output_type": "execute_result"
        }
      ],
      "source": [
        "movies.head(1)"
      ]
    },
    {
      "cell_type": "code",
      "execution_count": null,
      "id": "c0b88808",
      "metadata": {
        "id": "c0b88808"
      },
      "outputs": [],
      "source": [
        "movies['tags'] = movies['overview'] + movies['genres'] + movies['keywords'] + movies['cast'] + movies['crew']"
      ]
    },
    {
      "cell_type": "code",
      "execution_count": null,
      "id": "264b2fa7",
      "metadata": {
        "id": "264b2fa7",
        "outputId": "134157c7-03fa-45c4-de8c-7d029cae93bf"
      },
      "outputs": [
        {
          "data": {
            "text/plain": [
              "['In',\n",
              " 'the',\n",
              " '22nd',\n",
              " 'century,',\n",
              " 'a',\n",
              " 'paraplegic',\n",
              " 'Marine',\n",
              " 'is',\n",
              " 'dispatched',\n",
              " 'to',\n",
              " 'the',\n",
              " 'moon',\n",
              " 'Pandora',\n",
              " 'on',\n",
              " 'a',\n",
              " 'unique',\n",
              " 'mission,',\n",
              " 'but',\n",
              " 'becomes',\n",
              " 'torn',\n",
              " 'between',\n",
              " 'following',\n",
              " 'orders',\n",
              " 'and',\n",
              " 'protecting',\n",
              " 'an',\n",
              " 'alien',\n",
              " 'civilization.',\n",
              " 'Action',\n",
              " 'Adventure',\n",
              " 'Fantasy',\n",
              " 'ScienceFiction',\n",
              " 'cultureclash',\n",
              " 'future',\n",
              " 'spacewar',\n",
              " 'spacecolony',\n",
              " 'society',\n",
              " 'spacetravel',\n",
              " 'futuristic',\n",
              " 'romance',\n",
              " 'space',\n",
              " 'alien',\n",
              " 'tribe',\n",
              " 'alienplanet',\n",
              " 'cgi',\n",
              " 'marine',\n",
              " 'soldier',\n",
              " 'battle',\n",
              " 'loveaffair',\n",
              " 'antiwar',\n",
              " 'powerrelations',\n",
              " 'mindandsoul',\n",
              " '3d',\n",
              " 'SamWorthington',\n",
              " 'ZoeSaldana',\n",
              " 'SigourneyWeaver',\n",
              " 'JamesCameron']"
            ]
          },
          "execution_count": 33,
          "metadata": {},
          "output_type": "execute_result"
        }
      ],
      "source": [
        "movies['tags'][0]"
      ]
    },
    {
      "cell_type": "code",
      "execution_count": null,
      "id": "45ed8653",
      "metadata": {
        "id": "45ed8653"
      },
      "outputs": [],
      "source": [
        "new_movies = movies[['movie_id', 'title', 'tags']]"
      ]
    },
    {
      "cell_type": "code",
      "execution_count": null,
      "id": "b6b4a7ff",
      "metadata": {
        "id": "b6b4a7ff",
        "outputId": "3438a9bb-51d1-44dc-8ead-e7682f83b79b"
      },
      "outputs": [
        {
          "data": {
            "text/html": [
              "<div>\n",
              "<style scoped>\n",
              "    .dataframe tbody tr th:only-of-type {\n",
              "        vertical-align: middle;\n",
              "    }\n",
              "\n",
              "    .dataframe tbody tr th {\n",
              "        vertical-align: top;\n",
              "    }\n",
              "\n",
              "    .dataframe thead th {\n",
              "        text-align: right;\n",
              "    }\n",
              "</style>\n",
              "<table border=\"1\" class=\"dataframe\">\n",
              "  <thead>\n",
              "    <tr style=\"text-align: right;\">\n",
              "      <th></th>\n",
              "      <th>movie_id</th>\n",
              "      <th>title</th>\n",
              "      <th>tags</th>\n",
              "    </tr>\n",
              "  </thead>\n",
              "  <tbody>\n",
              "    <tr>\n",
              "      <th>0</th>\n",
              "      <td>19995</td>\n",
              "      <td>Avatar</td>\n",
              "      <td>[In, the, 22nd, century,, a, paraplegic, Marin...</td>\n",
              "    </tr>\n",
              "  </tbody>\n",
              "</table>\n",
              "</div>"
            ],
            "text/plain": [
              "   movie_id   title                                               tags\n",
              "0     19995  Avatar  [In, the, 22nd, century,, a, paraplegic, Marin..."
            ]
          },
          "execution_count": 35,
          "metadata": {},
          "output_type": "execute_result"
        }
      ],
      "source": [
        "new_movies.head(1)"
      ]
    },
    {
      "cell_type": "code",
      "execution_count": null,
      "id": "c3724e82",
      "metadata": {
        "scrolled": false,
        "id": "c3724e82",
        "outputId": "3d4c6f58-767d-42ba-f570-3173517b277d"
      },
      "outputs": [
        {
          "name": "stderr",
          "output_type": "stream",
          "text": [
            "C:\\Users\\Xen\\AppData\\Local\\Temp\\ipykernel_9936\\2092922764.py:1: SettingWithCopyWarning: \n",
            "A value is trying to be set on a copy of a slice from a DataFrame.\n",
            "Try using .loc[row_indexer,col_indexer] = value instead\n",
            "\n",
            "See the caveats in the documentation: https://pandas.pydata.org/pandas-docs/stable/user_guide/indexing.html#returning-a-view-versus-a-copy\n",
            "  new_movies['tags'] = new_movies['tags'].apply(lambda x : str(x).lower())\n"
          ]
        }
      ],
      "source": [
        "new_movies['tags'] = new_movies['tags'].apply(lambda x : str(x).lower())"
      ]
    },
    {
      "cell_type": "code",
      "execution_count": null,
      "id": "e7615038",
      "metadata": {
        "id": "e7615038",
        "outputId": "ecb59933-86a9-4fed-878e-09b175ae4554"
      },
      "outputs": [
        {
          "data": {
            "text/plain": [
              "\"['in', 'the', '22nd', 'century,', 'a', 'paraplegic', 'marine', 'is', 'dispatched', 'to', 'the', 'moon', 'pandora', 'on', 'a', 'unique', 'mission,', 'but', 'becomes', 'torn', 'between', 'following', 'orders', 'and', 'protecting', 'an', 'alien', 'civilization.', 'action', 'adventure', 'fantasy', 'sciencefiction', 'cultureclash', 'future', 'spacewar', 'spacecolony', 'society', 'spacetravel', 'futuristic', 'romance', 'space', 'alien', 'tribe', 'alienplanet', 'cgi', 'marine', 'soldier', 'battle', 'loveaffair', 'antiwar', 'powerrelations', 'mindandsoul', '3d', 'samworthington', 'zoesaldana', 'sigourneyweaver', 'jamescameron']\""
            ]
          },
          "execution_count": 39,
          "metadata": {},
          "output_type": "execute_result"
        }
      ],
      "source": [
        "new_movies['tags'][0]"
      ]
    },
    {
      "cell_type": "code",
      "execution_count": null,
      "id": "fb4c7214",
      "metadata": {
        "scrolled": true,
        "id": "fb4c7214"
      },
      "outputs": [],
      "source": [
        "import nltk"
      ]
    },
    {
      "cell_type": "code",
      "execution_count": null,
      "id": "cb3defd1",
      "metadata": {
        "id": "cb3defd1"
      },
      "outputs": [],
      "source": [
        "from nltk.stem import PorterStemmer\n",
        "ps = PorterStemmer()"
      ]
    },
    {
      "cell_type": "code",
      "execution_count": null,
      "id": "0e10a2ae",
      "metadata": {
        "id": "0e10a2ae"
      },
      "outputs": [],
      "source": [
        "def stem(text):\n",
        "    L = []\n",
        "    for i in text.split():\n",
        "        L.append(ps.stem(i))\n",
        "    return ' '.join(L)"
      ]
    },
    {
      "cell_type": "code",
      "execution_count": null,
      "id": "3a3c7945",
      "metadata": {
        "id": "3a3c7945",
        "outputId": "c94c5a0a-e439-4d67-d13b-fd27cfc41d7b"
      },
      "outputs": [
        {
          "data": {
            "text/plain": [
              "\"['in', 'the', '22nd', 'century,', 'a', 'paraplegic', 'marine', 'is', 'dispatched', 'to', 'the', 'moon', 'pandora', 'on', 'a', 'unique', 'mission,', 'but', 'becomes', 'torn', 'between', 'following', 'orders', 'and', 'protecting', 'an', 'alien', 'civilization.', 'action', 'adventure', 'fantasy', 'sciencefiction', 'cultureclash', 'future', 'spacewar', 'spacecolony', 'society', 'spacetravel', 'futuristic', 'romance', 'space', 'alien', 'tribe', 'alienplanet', 'cgi', 'marine', 'soldier', 'battle', 'loveaffair', 'antiwar', 'powerrelations', 'mindandsoul', '3d', 'samworthington', 'zoesaldana', 'sigourneyweaver', 'jamescameron']\""
            ]
          },
          "execution_count": 46,
          "metadata": {},
          "output_type": "execute_result"
        }
      ],
      "source": [
        "new_movies['tags'][0]"
      ]
    },
    {
      "cell_type": "code",
      "execution_count": null,
      "id": "2e36aec5",
      "metadata": {
        "id": "2e36aec5",
        "outputId": "2a365ac5-b5f8-4141-c75e-f219a69b797b"
      },
      "outputs": [
        {
          "data": {
            "text/plain": [
              "0       ['in', 'the', '22nd', 'century,', 'a', 'parapl...\n",
              "1       ['captain', 'barbossa,', 'long', 'believed', '...\n",
              "2       ['a', 'cryptic', 'message', 'from', 'bond’s', ...\n",
              "3       ['following', 'the', 'death', 'of', 'district'...\n",
              "4       ['john', 'carter', 'is', 'a', 'war-weary,', 'f...\n",
              "                              ...                        \n",
              "4804    ['el', 'mariachi', 'just', 'wants', 'to', 'pla...\n",
              "4805    ['a', 'newlywed', \"couple's\", 'honeymoon', 'is...\n",
              "4806    ['\"signed,', 'sealed,', 'delivered\"', 'introdu...\n",
              "4807    ['when', 'ambitious', 'new', 'york', 'attorney...\n",
              "4808    ['ever', 'since', 'the', 'second', 'grade', 'w...\n",
              "Name: tags, Length: 4809, dtype: object"
            ]
          },
          "execution_count": 47,
          "metadata": {},
          "output_type": "execute_result"
        }
      ],
      "source": [
        "new_movies['tags'].apply(stem)"
      ]
    },
    {
      "cell_type": "code",
      "execution_count": null,
      "id": "aa292890",
      "metadata": {
        "id": "aa292890",
        "outputId": "5a2c6812-e05b-43d7-ee75-9ae5ad0bee77"
      },
      "outputs": [
        {
          "data": {
            "text/plain": [
              "\"['in', 'the', '22nd', 'century,', 'a', 'paraplegic', 'marine', 'is', 'dispatched', 'to', 'the', 'moon', 'pandora', 'on', 'a', 'unique', 'mission,', 'but', 'becomes', 'torn', 'between', 'following', 'orders', 'and', 'protecting', 'an', 'alien', 'civilization.', 'action', 'adventure', 'fantasy', 'sciencefiction', 'cultureclash', 'future', 'spacewar', 'spacecolony', 'society', 'spacetravel', 'futuristic', 'romance', 'space', 'alien', 'tribe', 'alienplanet', 'cgi', 'marine', 'soldier', 'battle', 'loveaffair', 'antiwar', 'powerrelations', 'mindandsoul', '3d', 'samworthington', 'zoesaldana', 'sigourneyweaver', 'jamescameron']\""
            ]
          },
          "execution_count": 48,
          "metadata": {},
          "output_type": "execute_result"
        }
      ],
      "source": [
        "new_movies['tags'][0]"
      ]
    },
    {
      "cell_type": "code",
      "execution_count": null,
      "id": "1bff3ce5",
      "metadata": {
        "id": "1bff3ce5",
        "outputId": "e9a10b12-1d27-49a2-d6c6-f4371a740f7b"
      },
      "outputs": [
        {
          "data": {
            "text/plain": [
              "array([[0, 0, 0, ..., 0, 0, 0],\n",
              "       [0, 0, 0, ..., 0, 0, 0],\n",
              "       [0, 0, 0, ..., 0, 0, 0],\n",
              "       ...,\n",
              "       [0, 0, 0, ..., 0, 0, 0],\n",
              "       [0, 0, 0, ..., 0, 0, 0],\n",
              "       [0, 0, 0, ..., 0, 0, 0]], dtype=int64)"
            ]
          },
          "execution_count": 49,
          "metadata": {},
          "output_type": "execute_result"
        }
      ],
      "source": [
        "from sklearn.feature_extraction.text import CountVectorizer\n",
        "\n",
        "cv = CountVectorizer(max_features=4000, stop_words='english')\n",
        "cv.fit_transform(new_movies['tags']).toarray()"
      ]
    },
    {
      "cell_type": "code",
      "execution_count": null,
      "id": "732684ac",
      "metadata": {
        "id": "732684ac"
      },
      "outputs": [],
      "source": [
        "profiles = cv.fit_transform(new_movies['tags']).toarray()"
      ]
    },
    {
      "cell_type": "code",
      "execution_count": null,
      "id": "bb4b16e2",
      "metadata": {
        "scrolled": true,
        "id": "bb4b16e2",
        "outputId": "8b29fe94-a9db-4740-ed10-cb41cf1db6cd"
      },
      "outputs": [
        {
          "data": {
            "text/plain": [
              "(4809, 4000)"
            ]
          },
          "execution_count": 55,
          "metadata": {},
          "output_type": "execute_result"
        }
      ],
      "source": [
        "profiles.shape"
      ]
    },
    {
      "cell_type": "code",
      "execution_count": null,
      "id": "b099584d",
      "metadata": {
        "id": "b099584d"
      },
      "outputs": [],
      "source": [
        "from sklearn.metrics.pairwise import cosine_similarity\n",
        "\n",
        "similarity = cosine_similarity(profiles)"
      ]
    },
    {
      "cell_type": "code",
      "execution_count": null,
      "id": "1bfa1516",
      "metadata": {
        "scrolled": true,
        "id": "1bfa1516",
        "outputId": "ebeffb4a-3015-4d3a-b918-26c3ae95c5cc"
      },
      "outputs": [
        {
          "data": {
            "text/plain": [
              "array([1.        , 0.09393364, 0.06262243, ..., 0.02615329, 0.0285831 ,\n",
              "       0.        ])"
            ]
          },
          "execution_count": 61,
          "metadata": {},
          "output_type": "execute_result"
        }
      ],
      "source": [
        "similarity[0]"
      ]
    },
    {
      "cell_type": "code",
      "execution_count": null,
      "id": "ed65a6e8",
      "metadata": {
        "id": "ed65a6e8"
      },
      "outputs": [],
      "source": [
        "def recommend(movie):\n",
        "    index = np.where(new_movies['title'] == movie)[0][0]\n",
        "    similar_movies = sorted(enumerate(similarity[index]), key=lambda x: x[1], reverse=True)[1:4]\n",
        "\n",
        "    for i in similar_movies:\n",
        "        print(new_movies['title'][i[0]])"
      ]
    },
    {
      "cell_type": "code",
      "execution_count": null,
      "id": "21e3e300",
      "metadata": {
        "scrolled": true,
        "id": "21e3e300",
        "outputId": "7bea19be-5ea4-4e21-9487-eb08a5937f83"
      },
      "outputs": [
        {
          "name": "stdout",
          "output_type": "stream",
          "text": [
            "Hercules\n",
            "Return of the Jedi\n",
            "Abandoned\n"
          ]
        }
      ],
      "source": [
        "recommend('Gladiator')"
      ]
    },
    {
      "cell_type": "code",
      "execution_count": null,
      "id": "8689379d",
      "metadata": {
        "id": "8689379d",
        "outputId": "98b440c8-b78a-46b6-87fa-b2cce34b88bd"
      },
      "outputs": [
        {
          "name": "stdout",
          "output_type": "stream",
          "text": [
            "Alien\n",
            "Alien³\n",
            "Alien: Resurrection\n"
          ]
        }
      ],
      "source": [
        "recommend('Aliens')"
      ]
    },
    {
      "cell_type": "code",
      "execution_count": null,
      "id": "6602b43b",
      "metadata": {
        "id": "6602b43b"
      },
      "outputs": [],
      "source": []
    }
  ],
  "metadata": {
    "kernelspec": {
      "display_name": "Python 3 (ipykernel)",
      "language": "python",
      "name": "python3"
    },
    "language_info": {
      "codemirror_mode": {
        "name": "ipython",
        "version": 3
      },
      "file_extension": ".py",
      "mimetype": "text/x-python",
      "name": "python",
      "nbconvert_exporter": "python",
      "pygments_lexer": "ipython3",
      "version": "3.10.0"
    },
    "colab": {
      "provenance": []
    }
  },
  "nbformat": 4,
  "nbformat_minor": 5
}